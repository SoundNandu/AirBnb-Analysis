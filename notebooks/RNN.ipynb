{
  "nbformat": 4,
  "nbformat_minor": 0,
  "metadata": {
    "colab": {
      "name": "RNN.ipynb",
      "provenance": [],
      "collapsed_sections": [],
      "authorship_tag": "ABX9TyOEkulWq/JjAvqd7qCgf9HB",
      "include_colab_link": true
    },
    "kernelspec": {
      "name": "python3",
      "display_name": "Python 3"
    }
  },
  "cells": [
    {
      "cell_type": "markdown",
      "metadata": {
        "id": "view-in-github",
        "colab_type": "text"
      },
      "source": [
        "<a href=\"https://colab.research.google.com/github/SoundNandu/AirBnb-Analysis/blob/master/notebooks/RNN.ipynb\" target=\"_parent\"><img src=\"https://colab.research.google.com/assets/colab-badge.svg\" alt=\"Open In Colab\"/></a>"
      ]
    },
    {
      "cell_type": "code",
      "metadata": {
        "id": "ltr5UfLcIj2M",
        "colab_type": "code",
        "outputId": "9ea9438c-7191-4288-9e0b-6c09d2f16936",
        "colab": {
          "base_uri": "https://localhost:8080/",
          "height": 124
        }
      },
      "source": [
        "#mount to google colab \n",
        "from google.colab import drive\n",
        "drive.mount('/content/drive')"
      ],
      "execution_count": 0,
      "outputs": [
        {
          "output_type": "stream",
          "text": [
            "Go to this URL in a browser: https://accounts.google.com/o/oauth2/auth?client_id=947318989803-6bn6qk8qdgf4n4g3pfee6491hc0brc4i.apps.googleusercontent.com&redirect_uri=urn%3aietf%3awg%3aoauth%3a2.0%3aoob&response_type=code&scope=email%20https%3a%2f%2fwww.googleapis.com%2fauth%2fdocs.test%20https%3a%2f%2fwww.googleapis.com%2fauth%2fdrive%20https%3a%2f%2fwww.googleapis.com%2fauth%2fdrive.photos.readonly%20https%3a%2f%2fwww.googleapis.com%2fauth%2fpeopleapi.readonly\n",
            "\n",
            "Enter your authorization code:\n",
            "··········\n",
            "Mounted at /content/drive\n"
          ],
          "name": "stdout"
        }
      ]
    },
    {
      "cell_type": "code",
      "metadata": {
        "id": "ohL7cKkbIyOA",
        "colab_type": "code",
        "colab": {}
      },
      "source": [
        "import pandas as pd\n",
        "import numpy as np\n",
        "import matplotlib.pyplot as plt\n",
        "\n",
        "from keras.preprocessing.sequence import pad_sequences\n",
        "from keras.preprocessing.text import Tokenizer\n",
        "from keras.layers import Flatten\n",
        "from keras.models import Sequential, load_model\n",
        "from keras.callbacks import EarlyStopping, ModelCheckpoint\n",
        "\n",
        "from keras.layers import Conv1D, Dense, Dropout, Activation, Embedding, GlobalMaxPool1D"
      ],
      "execution_count": 0,
      "outputs": []
    },
    {
      "cell_type": "markdown",
      "metadata": {
        "id": "PCqmD4n1P3aq",
        "colab_type": "text"
      },
      "source": [
        "# Feature Eng"
      ]
    },
    {
      "cell_type": "markdown",
      "metadata": {
        "id": "_p5jLgJ0P6T3",
        "colab_type": "text"
      },
      "source": [
        "Reading the file from the folder , adding columns names 'label','words'"
      ]
    },
    {
      "cell_type": "code",
      "metadata": {
        "id": "G1yUUd7xKAiP",
        "colab_type": "code",
        "colab": {}
      },
      "source": [
        "df = pd.read_csv(\"/content/drive/Shared drives/Mine/classification/data/shuffled-full-set-hashed.csv\", header=None, names=['label','words'])"
      ],
      "execution_count": 0,
      "outputs": []
    },
    {
      "cell_type": "code",
      "metadata": {
        "id": "2v7HSEEBKBYJ",
        "colab_type": "code",
        "outputId": "605458c5-108e-4923-ce37-49ead1b02e09",
        "colab": {
          "base_uri": "https://localhost:8080/",
          "height": 69
        }
      },
      "source": [
        "print(\"Before dropping NAs, we had\",df.shape[0],\" rows of data\");\n",
        "df.dropna(inplace=True)\n",
        "print(\"After dropping NAs, we have\", df.shape[0],\" rows of data\\n\");"
      ],
      "execution_count": 0,
      "outputs": [
        {
          "output_type": "stream",
          "text": [
            "Before dropping NAs, we had 62204  rows of data\n",
            "After dropping NAs, we have 62159  rows of data\n",
            "\n"
          ],
          "name": "stdout"
        }
      ]
    },
    {
      "cell_type": "markdown",
      "metadata": {
        "id": "v04iSPLAP9MM",
        "colab_type": "text"
      },
      "source": [
        "Shapes of the data and column"
      ]
    },
    {
      "cell_type": "code",
      "metadata": {
        "id": "W6RTnawgKBaf",
        "colab_type": "code",
        "outputId": "0f98e6c8-136d-4823-9217-6a3bcddb1058",
        "colab": {
          "base_uri": "https://localhost:8080/",
          "height": 34
        }
      },
      "source": [
        "df.shape"
      ],
      "execution_count": 0,
      "outputs": [
        {
          "output_type": "execute_result",
          "data": {
            "text/plain": [
              "(62159, 2)"
            ]
          },
          "metadata": {
            "tags": []
          },
          "execution_count": 5
        }
      ]
    },
    {
      "cell_type": "code",
      "metadata": {
        "id": "5XZwSZLRKBdn",
        "colab_type": "code",
        "outputId": "0c601882-287b-43dc-dc1e-b3a2878f3e24",
        "colab": {
          "base_uri": "https://localhost:8080/",
          "height": 52
        }
      },
      "source": [
        "num_words = 100000\n",
        "max_len = 500\n",
        "\n",
        "tokenizer = Tokenizer(num_words=num_words)\n",
        "#tokeninzing\n",
        "tokenizer.fit_on_texts(df['words'].values)\n",
        "word_index = tokenizer.word_index\n",
        "print('Found %s unique tokens.' % len(word_index))\n",
        "X = tokenizer.texts_to_sequences(df['words'].values)\n",
        "X = pad_sequences(X, maxlen=max_len)\n",
        "print('Shape of data tensor:', X.shape)"
      ],
      "execution_count": 0,
      "outputs": [
        {
          "output_type": "stream",
          "text": [
            "Found 1037934 unique tokens.\n",
            "Shape of data tensor: (62159, 500)\n"
          ],
          "name": "stdout"
        }
      ]
    },
    {
      "cell_type": "code",
      "metadata": {
        "id": "s9QVGsW8KBfw",
        "colab_type": "code",
        "outputId": "d7d542ff-9883-4277-f4d1-9bfe709e4475",
        "colab": {
          "base_uri": "https://localhost:8080/",
          "height": 34
        }
      },
      "source": [
        "Y = pd.get_dummies(df['label']).values\n",
        "print('Shape of label tensor:', Y.shape)"
      ],
      "execution_count": 0,
      "outputs": [
        {
          "output_type": "stream",
          "text": [
            "Shape of label tensor: (62159, 14)\n"
          ],
          "name": "stdout"
        }
      ]
    },
    {
      "cell_type": "markdown",
      "metadata": {
        "id": "qMpHCsSdQAA_",
        "colab_type": "text"
      },
      "source": [
        "Spilting the data into train and test where train data is 80% and test datae is 20%"
      ]
    },
    {
      "cell_type": "code",
      "metadata": {
        "id": "spKBahd-KBiK",
        "colab_type": "code",
        "outputId": "94cdac6d-8655-4029-e377-4b25290746e4",
        "colab": {
          "base_uri": "https://localhost:8080/",
          "height": 52
        }
      },
      "source": [
        "from sklearn.model_selection import train_test_split\n",
        "X_train, X_test, Y_train, Y_test = train_test_split(X, Y, test_size=0.2, random_state=23)\n",
        "print(X_train.shape,Y_train.shape)\n",
        "print(X_test.shape,Y_test.shape)"
      ],
      "execution_count": 0,
      "outputs": [
        {
          "output_type": "stream",
          "text": [
            "(49727, 500) (49727, 14)\n",
            "(12432, 500) (12432, 14)\n"
          ],
          "name": "stdout"
        }
      ]
    },
    {
      "cell_type": "markdown",
      "metadata": {
        "id": "ntSBuF4hQCDu",
        "colab_type": "text"
      },
      "source": [
        "# Model"
      ]
    },
    {
      "cell_type": "code",
      "metadata": {
        "id": "_tBpEbCdKBlS",
        "colab_type": "code",
        "colab": {}
      },
      "source": [
        "vocabulary_size = len(tokenizer.word_index)\n",
        "mxlen = 500\n",
        "# This is fixed.\n",
        "EMBEDDING_DIM = 100"
      ],
      "execution_count": 0,
      "outputs": []
    },
    {
      "cell_type": "code",
      "metadata": {
        "id": "JSQViGEWKBoD",
        "colab_type": "code",
        "outputId": "ebfe2906-c7e8-42b0-c104-2aa397545cd8",
        "colab": {
          "base_uri": "https://localhost:8080/",
          "height": 364
        }
      },
      "source": [
        "#A recurrent neural network (RNN) is a class of artificial neural network where connections between nodes form a directed graph along a sequence. \n",
        "#we have used Embedding and desnse layer and categorical_crossentropy since its a multi class classification problem.\n",
        "model = Sequential()\n",
        "model.add(Embedding(vocabulary_size, 100, input_length=mxlen))\n",
        "model.add(Flatten())\n",
        "model.add(Dense(activation=\"relu\", input_dim=100, units=50, kernel_initializer=\"uniform\"))\n",
        "model.add(Dense(activation=\"relu\", units=24, kernel_initializer=\"uniform\"))\n",
        "model.add(Dense(activation=\"relu\", units=8, kernel_initializer=\"uniform\"))\n",
        "model.add(Dense(activation=\"sigmoid\", units=14, kernel_initializer=\"uniform\"))\n",
        "model.compile(optimizer='adam', loss='categorical_crossentropy', metrics=['accuracy'])\n",
        "model.summary()"
      ],
      "execution_count": 0,
      "outputs": [
        {
          "output_type": "stream",
          "text": [
            "Model: \"sequential_1\"\n",
            "_________________________________________________________________\n",
            "Layer (type)                 Output Shape              Param #   \n",
            "=================================================================\n",
            "embedding_1 (Embedding)      (None, 500, 100)          103793400 \n",
            "_________________________________________________________________\n",
            "flatten_1 (Flatten)          (None, 50000)             0         \n",
            "_________________________________________________________________\n",
            "dense_1 (Dense)              (None, 50)                2500050   \n",
            "_________________________________________________________________\n",
            "dense_2 (Dense)              (None, 24)                1224      \n",
            "_________________________________________________________________\n",
            "dense_3 (Dense)              (None, 8)                 200       \n",
            "_________________________________________________________________\n",
            "dense_4 (Dense)              (None, 14)                126       \n",
            "=================================================================\n",
            "Total params: 106,295,000\n",
            "Trainable params: 106,295,000\n",
            "Non-trainable params: 0\n",
            "_________________________________________________________________\n"
          ],
          "name": "stdout"
        }
      ]
    },
    {
      "cell_type": "markdown",
      "metadata": {
        "id": "8sZDZ8t2QHWB",
        "colab_type": "text"
      },
      "source": [
        "Building the model with fit function"
      ]
    },
    {
      "cell_type": "code",
      "metadata": {
        "id": "BGUpMLpbKBqk",
        "colab_type": "code",
        "outputId": "5e81216e-998e-4d07-e9fe-9b42cacb84e5",
        "colab": {
          "base_uri": "https://localhost:8080/",
          "height": 263
        }
      },
      "source": [
        "history = model.fit(X_train,Y_train,batch_size=64,epochs=10,validation_split=0.1,callbacks=[EarlyStopping(monitor='val_loss', patience=3, min_delta=0.0001)])"
      ],
      "execution_count": 0,
      "outputs": [
        {
          "output_type": "stream",
          "text": [
            "/usr/local/lib/python3.6/dist-packages/tensorflow/python/framework/indexed_slices.py:434: UserWarning: Converting sparse IndexedSlices to a dense Tensor of unknown shape. This may consume a large amount of memory.\n",
            "  \"Converting sparse IndexedSlices to a dense Tensor of unknown shape. \"\n"
          ],
          "name": "stderr"
        },
        {
          "output_type": "stream",
          "text": [
            "Train on 44754 samples, validate on 4973 samples\n",
            "Epoch 1/10\n",
            "44754/44754 [==============================] - 874s 20ms/step - loss: 1.4311 - accuracy: 0.4725 - val_loss: 0.7349 - val_accuracy: 0.7776\n",
            "Epoch 2/10\n",
            "44754/44754 [==============================] - 873s 20ms/step - loss: 0.5695 - accuracy: 0.8278 - val_loss: 0.6063 - val_accuracy: 0.8218\n",
            "Epoch 3/10\n",
            "44754/44754 [==============================] - 874s 20ms/step - loss: 0.3308 - accuracy: 0.8997 - val_loss: 0.6849 - val_accuracy: 0.8138\n",
            "Epoch 4/10\n",
            "44754/44754 [==============================] - 874s 20ms/step - loss: 0.2103 - accuracy: 0.9324 - val_loss: 0.8089 - val_accuracy: 0.8110\n",
            "Epoch 5/10\n",
            "44754/44754 [==============================] - 872s 19ms/step - loss: 0.1703 - accuracy: 0.9425 - val_loss: 0.8852 - val_accuracy: 0.8178\n"
          ],
          "name": "stdout"
        }
      ]
    },
    {
      "cell_type": "markdown",
      "metadata": {
        "id": "1iJNUDdiQKXu",
        "colab_type": "text"
      },
      "source": [
        "Evaluate the model"
      ]
    },
    {
      "cell_type": "code",
      "metadata": {
        "id": "hkkI7jtXQIgw",
        "colab_type": "code",
        "outputId": "d7ac88a2-7fb9-4fed-9497-72e518312455",
        "colab": {
          "base_uri": "https://localhost:8080/",
          "height": 86
        }
      },
      "source": [
        "accr = model.evaluate(X_test,Y_test)\n",
        "print('Test set\\n  Loss: {:0.3f}\\n  Accuracy: {:0.3f}'.format(accr[0],accr[1]))"
      ],
      "execution_count": 0,
      "outputs": [
        {
          "output_type": "stream",
          "text": [
            "12432/12432 [==============================] - 3s 224us/step\n",
            "Test set\n",
            "  Loss: 0.896\n",
            "  Accuracy: 0.804\n"
          ],
          "name": "stdout"
        }
      ]
    },
    {
      "cell_type": "markdown",
      "metadata": {
        "id": "p1gib2lXQNHi",
        "colab_type": "text"
      },
      "source": [
        "Save the model"
      ]
    },
    {
      "cell_type": "code",
      "metadata": {
        "id": "QQICMwW5KBs8",
        "colab_type": "code",
        "colab": {}
      },
      "source": [
        "model.save('/content/drive/Shared drives/Mine/classification/models/ANN.h5')"
      ],
      "execution_count": 0,
      "outputs": []
    },
    {
      "cell_type": "markdown",
      "metadata": {
        "id": "jnbaV4xMQQcP",
        "colab_type": "text"
      },
      "source": [
        "Loading the model"
      ]
    },
    {
      "cell_type": "code",
      "metadata": {
        "id": "9Zt6WGYTKBvk",
        "colab_type": "code",
        "outputId": "da9a81a5-8162-41af-d35d-8257a32cdd5d",
        "colab": {
          "base_uri": "https://localhost:8080/",
          "height": 72
        }
      },
      "source": [
        "loaded_model = load_model('/content/drive/Shared drives/Mine/classification/models/ANN.h5')"
      ],
      "execution_count": 0,
      "outputs": [
        {
          "output_type": "stream",
          "text": [
            "/usr/local/lib/python3.6/dist-packages/tensorflow/python/framework/indexed_slices.py:434: UserWarning: Converting sparse IndexedSlices to a dense Tensor of unknown shape. This may consume a large amount of memory.\n",
            "  \"Converting sparse IndexedSlices to a dense Tensor of unknown shape. \"\n"
          ],
          "name": "stderr"
        }
      ]
    },
    {
      "cell_type": "code",
      "metadata": {
        "id": "5FZ4VSRTKByV",
        "colab_type": "code",
        "colab": {}
      },
      "source": [
        "import pickle \n",
        "# Save the trained model as a pickle string. \n",
        "pickle.dump(tokenizer, open('/content/drive/Shared drives/Mine/classification/models/token.pkl', 'wb'))\n",
        "vectorizer_pickle = pickle.load(open('/content/drive/Shared drives/Mine/classification/models/token.pkl', 'rb'))"
      ],
      "execution_count": 0,
      "outputs": []
    },
    {
      "cell_type": "markdown",
      "metadata": {
        "id": "I-qlGrggQSqd",
        "colab_type": "text"
      },
      "source": [
        "# Prediction"
      ]
    },
    {
      "cell_type": "code",
      "metadata": {
        "id": "a6kofFzxKB1O",
        "colab_type": "code",
        "outputId": "52accd89-7bba-48dd-8e69-d02930e2bc07",
        "colab": {
          "base_uri": "https://localhost:8080/",
          "height": 104
        }
      },
      "source": [
        "labels = ['APPLICATION', 'BILL', 'BILL BINDER', 'BINDER', 'CANCELLATION NOTICE','CHANGE ENDORSEMENT', 'DECLARATION', 'DELETION OF INTEREST','EXPIRATION NOTICE', 'INTENT TO CANCEL NOTICE', 'NON-RENEWAL NOTICE','POLICY CHANGE', 'REINSTATEMENT NOTICE', 'RETURNED CHECK']\n",
        "document = ['26f7353edc2e fdf32f896cc3 70f06d7a2533 eeb86a6a04e4 656b219766dc 572b3238a2c4 77ac9d61ee2e da2e1b058e4b 5b6bc2f0bdb1 9cdf4a63deb0 ee0c03371a49 b59e343416f7 6b304aabdcee 572b3238a2c4 8159faa9d80d 628863dfcdcd c64dd4330ce5 4e5019f629a9 6ce6cc5a3203 798fe9915030 f62c5f87f0af 0562c756a2f2 0562c756a2f2 1b6d0614f2c7 f0666bdbc8a5 5ee06767bc0f 586242498a88 1ab34730c1e0 6b343f522f78 2a6fbe672600 69056c5109b2 1c303d15eb65 f62c5f87f0af ed1e3242ee34 c9a53ea6e219 5ee06767bc0f c12d8d8d9530 7d41ca882f26 094453b4e4ae d38820625542 f62c5f87f0af 6ca2dd348663 6dcc75eaf823 f9b20c280980 1b6d0614f2c7 3486e5fe0d73 549330b9e320 f62c5f87f0af 586242498a88 1068682ce752 26f768da5068 6af770640118 bad6ff5dd7bc 67f9c02008c6 586242498a88 1068682ce752 1068682ce752 6ca2dd348663 b208ae1e8232 d38820625542 7d9e333a86da 04503bc22789 ce1f034abb5d 7420f0cec354 1015893e384a 5e99d31d8fa4 5c02c2aaa67b 93790ade6682 a65259ff0092 6c8642055a4e 4357c81e10c1 f0fd45d01d0a a31962fbd5f3 b61f1af56200 ffca4a0468c8 036087ac04f9 b136f6349cf3 a86f2ba617ec 31e348ce8673 b208ae1e8232 a4a3e609776f 93c988b67c47 93790ade6682 a65259ff0092 d0a6ba7c50bf 4357c81e10c1 ee0c03371a49 a31962fbd5f3 b61f1af56200 8159faa9d80d 036087ac04f9 f95d0bea231b 62e6083f8497 2bcce4e05d9d 93c988b67c47 b3531359f1f0 d0a6ba7c50bf 1015893e384a 586242498a88 e67eb757a353 6d25574664d2 9cdf4a63deb0 b59e343416f7 9db511b7a0eb b136f6349cf3 a0b0a52dc0bc c686eca9e082 2e85d01c5d75 462e6c05affd 7433a13b89c9 4f838b97d76c 1b6d0614f2c7 10e45001c2f2 985b4ad33779 6af770640118 40cb5e209b92 1b6d0614f2c7 0562c756a2f2 4a0084089b01 4b47049a7fd1 572b3238a2c4 ddb55480e542 b73e657498f2 797c9990becb abb8303deaf3 628863dfcdcd f9f45f852e7b 572b3238a2c4 da2e1b058e4b fe64d3cdfe5b 2a6fbe672600 69056c5109b2 41a0ee0cf31a c87d29676bd1 4faebb8051b2 22d6fd31d92b e3d61318ef03 036087ac04f9 2bcce4e05d9d 010bdb69ff0a 44d3870bca21 b3531359f1f0 9da09997e84d 97b6014f9e50 e48a761e8248 d66654f82a7e e67eb757a353 9438d89a58ab 6d25574664d2 aa07c87e9ec6 1015893e384a 586242498a88 1f529be656b6 fc9dddb3717a 4357c81e10c1 172df7bf8eeb']\n",
        "seq = tokenizer.texts_to_sequences(document)\n",
        "padded = pad_sequences(seq, maxlen=max_len)\n",
        "pred = model.predict(padded)\n",
        "print(\"Prediction: \",pred)\n",
        "print()\n",
        "print(\"Value: \",labels[np.argmax(pred)])"
      ],
      "execution_count": 0,
      "outputs": [
        {
          "output_type": "stream",
          "text": [
            "Prediction:  [[1.7478662e-22 4.0728169e-06 1.3889885e-10 3.1317995e-18 2.5177753e-01\n",
            "  4.8900417e-10 2.8327598e-09 2.3594630e-05 2.5430707e-06 1.3004533e-04\n",
            "  2.0694871e-11 8.3153742e-09 2.2704455e-07 7.8743975e-17]]\n",
            "\n",
            "Value:  CANCELLATION NOTICE\n"
          ],
          "name": "stdout"
        }
      ]
    },
    {
      "cell_type": "markdown",
      "metadata": {
        "id": "Dh2XyTvmQTkU",
        "colab_type": "text"
      },
      "source": [
        "# Ploting for Better understanding"
      ]
    },
    {
      "cell_type": "code",
      "metadata": {
        "id": "7m6WyQriKB37",
        "colab_type": "code",
        "outputId": "1113d8d6-e6eb-4b06-eb56-f6b33952e9a1",
        "colab": {
          "base_uri": "https://localhost:8080/",
          "height": 281
        }
      },
      "source": [
        "plt.title('Accuracy')\n",
        "plt.plot(history.history['accuracy'], label='train')\n",
        "plt.plot(history.history['val_accuracy'], label='test')\n",
        "plt.legend()\n",
        "plt.show()"
      ],
      "execution_count": 0,
      "outputs": [
        {
          "output_type": "display_data",
          "data": {
            "image/png": "[encoded data removed]",
            "text/plain": [
              "<Figure size 432x288 with 1 Axes>"
            ]
          },
          "metadata": {
            "tags": [],
            "needs_background": "light"
          }
        }
      ]
    },
    {
      "cell_type": "code",
      "metadata": {
        "id": "lQ1X5Tg2KB6Y",
        "colab_type": "code",
        "outputId": "79dc39e4-7f1b-4139-ba0d-edc42b478d28",
        "colab": {
          "base_uri": "https://localhost:8080/",
          "height": 281
        }
      },
      "source": [
        "plt.title('Loss')\n",
        "plt.plot(history.history['loss'], label='train')\n",
        "plt.plot(history.history['val_loss'], label='test')\n",
        "plt.legend()\n",
        "plt.show()"
      ],
      "execution_count": 0,
      "outputs": [
        {
          "output_type": "display_data",
          "data": {
            "image/png": "[encoded data removed]",
            "text/plain": [
              "<Figure size 432x288 with 1 Axes>"
            ]
          },
          "metadata": {
            "tags": [],
            "needs_background": "light"
          }
        }
      ]
    },
    {
      "cell_type": "code",
      "metadata": {
        "id": "VhGvOe-QKB8x",
        "colab_type": "code",
        "colab": {}
      },
      "source": [
        ""
      ],
      "execution_count": 0,
      "outputs": []
    },
    {
      "cell_type": "code",
      "metadata": {
        "id": "Q7WM5X9FKB_T",
        "colab_type": "code",
        "colab": {}
      },
      "source": [
        ""
      ],
      "execution_count": 0,
      "outputs": []
    }
  ]
}