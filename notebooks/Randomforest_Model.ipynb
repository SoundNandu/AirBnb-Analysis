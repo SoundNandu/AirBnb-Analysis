{
  "nbformat": 4,
  "nbformat_minor": 0,
  "metadata": {
    "colab": {
      "name": "Randomforest-Model.ipynb",
      "provenance": [],
      "collapsed_sections": [],
      "authorship_tag": "ABX9TyMpNGoVIyHIWQkhXq+cVupS",
      "include_colab_link": true
    },
    "kernelspec": {
      "name": "python3",
      "display_name": "Python 3"
    },
    "accelerator": "TPU"
  },
  "cells": [
    {
      "cell_type": "markdown",
      "metadata": {
        "id": "view-in-github",
        "colab_type": "text"
      },
      "source": [
        "<a href=\"https://colab.research.google.com/github/SoundNandu/AirBnb-Analysis/blob/master/notebooks/Randomforest_Model.ipynb\" target=\"_parent\"><img src=\"https://colab.research.google.com/assets/colab-badge.svg\" alt=\"Open In Colab\"/></a>"
      ]
    },
    {
      "cell_type": "code",
      "metadata": {
        "id": "AdJb0YBEd-aj",
        "colab_type": "code",
        "outputId": "82c63759-0ca2-41f0-825a-f671d89a11cf",
        "colab": {
          "base_uri": "https://localhost:8080/",
          "height": 34
        }
      },
      "source": [
        "#mount to google colab \n",
        "from google.colab import drive\n",
        "drive.mount('/content/drive')"
      ],
      "execution_count": 0,
      "outputs": [
        {
          "output_type": "stream",
          "text": [
            "Drive already mounted at /content/drive; to attempt to forcibly remount, call drive.mount(\"/content/drive\", force_remount=True).\n"
          ],
          "name": "stdout"
        }
      ]
    },
    {
      "cell_type": "code",
      "metadata": {
        "id": "AWbDO7FTeBs6",
        "colab_type": "code",
        "colab": {}
      },
      "source": [
        "import pandas as pd\n",
        "import re\n",
        "import pickle \n",
        "\n",
        "import numpy as np\n",
        "import matplotlib.pyplot as plt\n",
        "from sklearn.feature_extraction.text import TfidfVectorizer\n",
        "from sklearn.pipeline import Pipeline\n",
        "from sklearn.metrics import classification_report, confusion_matrix\n",
        "from sklearn.model_selection import train_test_split\n",
        "from sklearn.feature_selection import SelectKBest, chi2\n",
        "from sqlite3 import Error\n",
        "from sklearn.ensemble import RandomForestClassifier\n",
        "from sklearn.metrics import mean_squared_error, r2_score,mean_absolute_error,explained_variance_score,accuracy_score"
      ],
      "execution_count": 0,
      "outputs": []
    },
    {
      "cell_type": "code",
      "metadata": {
        "id": "BzEauhh3eH7b",
        "colab_type": "code",
        "colab": {}
      },
      "source": [
        "df = pd.read_csv(\"/content/drive/Shared drives/Mine/classification/data/shuffled-full-set-hashed.csv\", header=None, names=['label','words'])"
      ],
      "execution_count": 0,
      "outputs": []
    },
    {
      "cell_type": "code",
      "metadata": {
        "id": "upBx_SQ4eH-J",
        "colab_type": "code",
        "outputId": "cc85f64f-ccdc-49d5-a541-bc7e80ba557b",
        "colab": {
          "base_uri": "https://localhost:8080/",
          "height": 206
        }
      },
      "source": [
        "df.head()"
      ],
      "execution_count": 0,
      "outputs": [
        {
          "output_type": "execute_result",
          "data": {
            "text/html": [
              "<div>\n",
              "<style scoped>\n",
              "    .dataframe tbody tr th:only-of-type {\n",
              "        vertical-align: middle;\n",
              "    }\n",
              "\n",
              "    .dataframe tbody tr th {\n",
              "        vertical-align: top;\n",
              "    }\n",
              "\n",
              "    .dataframe thead th {\n",
              "        text-align: right;\n",
              "    }\n",
              "</style>\n",
              "<table border=\"1\" class=\"dataframe\">\n",
              "  <thead>\n",
              "    <tr style=\"text-align: right;\">\n",
              "      <th></th>\n",
              "      <th>label</th>\n",
              "      <th>words</th>\n",
              "    </tr>\n",
              "  </thead>\n",
              "  <tbody>\n",
              "    <tr>\n",
              "      <th>0</th>\n",
              "      <td>DELETION OF INTEREST</td>\n",
              "      <td>e04a09c87692 d6b72e591b91 5d066f0246f1 ed41171...</td>\n",
              "    </tr>\n",
              "    <tr>\n",
              "      <th>1</th>\n",
              "      <td>RETURNED CHECK</td>\n",
              "      <td>a3b334c6eefd be95012ebf2b 41d67080e078 ff1c26e...</td>\n",
              "    </tr>\n",
              "    <tr>\n",
              "      <th>2</th>\n",
              "      <td>BILL</td>\n",
              "      <td>586242498a88 9ccf259ca087 54709b24b45f 6bf9c0c...</td>\n",
              "    </tr>\n",
              "    <tr>\n",
              "      <th>3</th>\n",
              "      <td>BILL</td>\n",
              "      <td>cd50e861f48b 6ca2dd348663 d38820625542 f077614...</td>\n",
              "    </tr>\n",
              "    <tr>\n",
              "      <th>4</th>\n",
              "      <td>BILL</td>\n",
              "      <td>9db5536263d8 1c303d15eb65 3f89b4673455 b73e657...</td>\n",
              "    </tr>\n",
              "  </tbody>\n",
              "</table>\n",
              "</div>"
            ],
            "text/plain": [
              "                  label                                              words\n",
              "0  DELETION OF INTEREST  e04a09c87692 d6b72e591b91 5d066f0246f1 ed41171...\n",
              "1        RETURNED CHECK  a3b334c6eefd be95012ebf2b 41d67080e078 ff1c26e...\n",
              "2                  BILL  586242498a88 9ccf259ca087 54709b24b45f 6bf9c0c...\n",
              "3                  BILL  cd50e861f48b 6ca2dd348663 d38820625542 f077614...\n",
              "4                  BILL  9db5536263d8 1c303d15eb65 3f89b4673455 b73e657..."
            ]
          },
          "metadata": {
            "tags": []
          },
          "execution_count": 4
        }
      ]
    },
    {
      "cell_type": "code",
      "metadata": {
        "id": "4BMQOb3neIAn",
        "colab_type": "code",
        "outputId": "c6e45da1-fe7e-47b2-86cf-97cd51cda1d0",
        "colab": {
          "base_uri": "https://localhost:8080/",
          "height": 69
        }
      },
      "source": [
        "print(\"Before dropping NAs, we had\",df.shape[0],\" rows of data\");\n",
        "df.dropna(inplace=True)\n",
        "print(\"After dropping NAs, we have\", df.shape[0],\" rows of data\\n\");"
      ],
      "execution_count": 0,
      "outputs": [
        {
          "output_type": "stream",
          "text": [
            "Before dropping NAs, we had 62204  rows of data\n",
            "After dropping NAs, we have 62159  rows of data\n",
            "\n"
          ],
          "name": "stdout"
        }
      ]
    },
    {
      "cell_type": "code",
      "metadata": {
        "id": "7FQP3ogveIC2",
        "colab_type": "code",
        "outputId": "a361bf97-929c-42e4-8802-990bc1b3d4a5",
        "colab": {
          "base_uri": "https://localhost:8080/",
          "height": 52
        }
      },
      "source": [
        "print(df.shape)\n",
        "print(df.columns.values)"
      ],
      "execution_count": 0,
      "outputs": [
        {
          "output_type": "stream",
          "text": [
            "(62159, 2)\n",
            "['label' 'words']\n"
          ],
          "name": "stdout"
        }
      ]
    },
    {
      "cell_type": "code",
      "metadata": {
        "id": "XOA5J_noeIFT",
        "colab_type": "code",
        "outputId": "ef872861-1f1a-4902-93f3-2a1691d081b1",
        "colab": {
          "base_uri": "https://localhost:8080/",
          "height": 406
        }
      },
      "source": [
        "df.groupby('label').words.count().plot.bar(ylim=0)\n",
        "plt.show()"
      ],
      "execution_count": 0,
      "outputs": [
        {
          "output_type": "display_data",
          "data": {
            "image/png": "[encoded data removed]",
            "text/plain": [
              "<Figure size 432x288 with 1 Axes>"
            ]
          },
          "metadata": {
            "tags": [],
            "needs_background": "light"
          }
        }
      ]
    },
    {
      "cell_type": "code",
      "metadata": {
        "id": "aeV7zG3jeIHl",
        "colab_type": "code",
        "outputId": "97e3493b-93e5-4512-c54c-93054c4c9f36",
        "colab": {
          "base_uri": "https://localhost:8080/",
          "height": 34
        }
      },
      "source": [
        "vectorizer = TfidfVectorizer(max_features=10000)\n",
        "final_features = vectorizer.fit_transform(df['words']).toarray()\n",
        "final_features.shape"
      ],
      "execution_count": 0,
      "outputs": [
        {
          "output_type": "execute_result",
          "data": {
            "text/plain": [
              "(62159, 10000)"
            ]
          },
          "metadata": {
            "tags": []
          },
          "execution_count": 8
        }
      ]
    },
    {
      "cell_type": "markdown",
      "metadata": {
        "id": "R7fIw_qtivRJ",
        "colab_type": "text"
      },
      "source": [
        "# Model"
      ]
    },
    {
      "cell_type": "code",
      "metadata": {
        "id": "eTaKJZCreILG",
        "colab_type": "code",
        "outputId": "2a7521d1-a3f1-44cc-963d-7032890317ba",
        "colab": {
          "base_uri": "https://localhost:8080/",
          "height": 625
        }
      },
      "source": [
        "# this block is to split the dataset into training and testing set \n",
        "X = df['words']\n",
        "Y = df['label']\n",
        "X_train, X_test, y_train, y_test = train_test_split(X, Y, test_size=0.25)\n",
        "\n",
        "# instead of doing these steps one at a time, we can use a pipeline to complete then all at once\n",
        "pipeline = Pipeline([('vect', vectorizer),\n",
        "                     ('chi',  SelectKBest(chi2, k=1200)),\n",
        "                     ('clf', RandomForestClassifier())])\n",
        "\n",
        "# fitting our model and save it in a pickle for later use\n",
        "model = pipeline.fit(X_train, y_train)\n",
        "with open('/content/drive/Shared drives/Mine/classification/models/RandomForest.pickle', 'wb') as f:\n",
        "    pickle.dump(model, f)\n",
        "\n",
        "ytest = np.array(y_test)\n",
        "\n",
        "# confusion matrix and classification report(precision, recall, F1-score)\n",
        "print(classification_report(ytest, model.predict(X_test)))\n",
        "print(confusion_matrix(ytest, model.predict(X_test)))"
      ],
      "execution_count": 0,
      "outputs": [
        {
          "output_type": "stream",
          "text": [
            "                         precision    recall  f1-score   support\n",
            "\n",
            "            APPLICATION       0.89      0.33      0.48        52\n",
            "                   BILL       0.90      0.90      0.90      4790\n",
            "            BILL BINDER       0.42      0.17      0.24        66\n",
            "                 BINDER       0.83      0.90      0.86      2141\n",
            "    CANCELLATION NOTICE       0.85      0.87      0.86      2497\n",
            "     CHANGE ENDORSEMENT       0.88      0.72      0.79       230\n",
            "            DECLARATION       0.41      0.14      0.21       272\n",
            "   DELETION OF INTEREST       0.93      0.91      0.92      1222\n",
            "      EXPIRATION NOTICE       0.89      0.71      0.79       201\n",
            "INTENT TO CANCEL NOTICE       0.83      0.54      0.65        63\n",
            "     NON-RENEWAL NOTICE       0.93      0.82      0.87       145\n",
            "          POLICY CHANGE       0.81      0.88      0.84      2588\n",
            "   REINSTATEMENT NOTICE       0.94      0.94      0.94      1081\n",
            "         RETURNED CHECK       0.98      0.88      0.93       192\n",
            "\n",
            "               accuracy                           0.87     15540\n",
            "              macro avg       0.82      0.69      0.73     15540\n",
            "           weighted avg       0.86      0.87      0.86     15540\n",
            "\n",
            "[[  17    5    0   22    0    0    0    0    0    0    0    7    0    1]\n",
            " [   0 4324   12   74  189    1   18    2   13    2    1  148    5    1]\n",
            " [   0   37   11    9    0    0    0    0    0    0    0    9    0    0]\n",
            " [   0   54    0 1921    8    2   11    2    0    0    0  141    2    0]\n",
            " [   0  150    0   14 2172    0    5   62    1    5    4   52   32    0]\n",
            " [   0    3    0    3    1  166    2    1    0    0    0   53    1    0]\n",
            " [   1   43    0  136    9    0   38    6    1    0    0   36    2    0]\n",
            " [   0    0    0    6   77    2    6 1113    0    0    0   17    1    0]\n",
            " [   0   41    0    2    5    0    0    0  142    0    1    6    4    0]\n",
            " [   0    7    0    0   17    0    0    1    0   34    1    1    2    0]\n",
            " [   0    1    0    0   15    0    2    1    0    0  119    7    0    0]\n",
            " [   1  114    3  128   19   18    8   13    3    0    2 2268   10    1]\n",
            " [   0    7    0    5   29    0    2    1    0    0    0   26 1011    0]\n",
            " [   0    6    0    4    0    0    1    0    0    0    0   13    0  168]]\n"
          ],
          "name": "stdout"
        }
      ]
    },
    {
      "cell_type": "code",
      "metadata": {
        "id": "Kb-NIvKVeIOA",
        "colab_type": "code",
        "outputId": "926a5704-e0c1-498e-975f-23bfa0f68245",
        "colab": {
          "base_uri": "https://localhost:8080/",
          "height": 34
        }
      },
      "source": [
        "\n",
        "\n",
        "print('Accuracy:', model.score(X_test, y_test))\n"
      ],
      "execution_count": 0,
      "outputs": [
        {
          "output_type": "stream",
          "text": [
            "Accuracy: 0.8689832689832689\n"
          ],
          "name": "stdout"
        }
      ]
    },
    {
      "cell_type": "code",
      "metadata": {
        "id": "hTovmOvkeIQa",
        "colab_type": "code",
        "colab": {}
      },
      "source": [
        ""
      ],
      "execution_count": 0,
      "outputs": []
    },
    {
      "cell_type": "code",
      "metadata": {
        "id": "-QMZ0Cw5eISy",
        "colab_type": "code",
        "colab": {}
      },
      "source": [
        ""
      ],
      "execution_count": 0,
      "outputs": []
    }
  ]
}